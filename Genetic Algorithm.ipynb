{
 "cells": [
  {
   "cell_type": "markdown",
   "metadata": {
    "id": "hT5wLfkqklMv"
   },
   "source": [
    "Menentukan populasi"
   ]
  },
  {
   "cell_type": "code",
   "execution_count": 3,
   "metadata": {
    "id": "1wW5qOaCkkLS"
   },
   "outputs": [],
   "source": [
    "import numpy\n",
    "import math\n",
    "\n",
    "def populationdef(array_pop,pop,gen_t):\n",
    "  for i in range(pop):\n",
    "    x=numpy.random.uniform(0,1,size=(gen_t))\n",
    "    array_pop.append(x)\n",
    "\n",
    "  return array_pop\n",
    "\n",
    "#print (array_pop)"
   ]
  },
  {
   "cell_type": "markdown",
   "metadata": {
    "id": "Ml3heMs-aFBM"
   },
   "source": [
    "menentukan chromsome untuk fenotipe dan menentukan fitness"
   ]
  },
  {
   "cell_type": "code",
   "execution_count": 236,
   "metadata": {
    "id": "2X90SgGPUvHa"
   },
   "outputs": [],
   "source": [
    "def decodecromsom(i,array_pop):\n",
    "  r1_min =-1\n",
    "  r1_max =2\n",
    "\n",
    "  r2_min = -1\n",
    "  r2_max = 1\n",
    "\n",
    "  sum_x1=sum(array_pop[i][:int(gen_t/2)]) #jumlah dari kolom ke - sampai ke 3\n",
    "  sum_x2=sum(array_pop[i][int(gen_t/2):]) #jumlah dari kolom 3(dihitung dari nol berarti ke-4) sampai akhir\n",
    "\n",
    "  x1=r1_min+(r1_max-r1_min)*(sum_x1)\n",
    "  x2=r2_min+(r2_max-r2_min)*(sum_x2)\n",
    "\n",
    "  x=[]\n",
    "  x.append(x1)\n",
    "  x.append(x2)\n",
    "\n",
    "  return x"
   ]
  },
  {
   "cell_type": "code",
   "execution_count": 4,
   "metadata": {
    "id": "FFW4Y_fb5E_W"
   },
   "outputs": [],
   "source": [
    "#-1<x1<2 dan -1<x2<1\n",
    "def fitnessf(i,array_pop):\n",
    "\n",
    "  #decoding\n",
    "  r1_min =-1\n",
    "  r1_max =2\n",
    "\n",
    "  r2_min = -1\n",
    "  r2_max = 1\n",
    "\n",
    "  sum_x1=sum(array_pop[i][:int(gen_t/2)]) #jumlah dari kolom ke - sampai ke 3\n",
    "  sum_x2=sum(array_pop[i][int(gen_t/2):]) #jumlah dari kolom 3(dihitung dari nol berarti ke-4) sampai akhir\n",
    "\n",
    "  x1=r1_min+(r1_max-r1_min)*(sum_x1)\n",
    "  x2=r2_min+(r2_max-r2_min)*(sum_x2)\n",
    "\n",
    "  fitness = (numpy.cos(x1)*numpy.sin(x2))-(x1/((x2*x2)+1))\n",
    "  r_fit=1/(fitness+0.000000001)\n",
    " #print(r_fit)\n",
    "\n",
    "  return r_fit\n",
    "\n",
    "  "
   ]
  },
  {
   "cell_type": "markdown",
   "metadata": {
    "id": "f78dK0iJJcSl"
   },
   "source": [
    "Tournament Selection"
   ]
  },
  {
   "cell_type": "code",
   "execution_count": 5,
   "metadata": {
    "id": "PzgWB-9aJb84"
   },
   "outputs": [],
   "source": [
    "def tournamentS(array_pop,k):\n",
    "  best=-1\n",
    "  for i in range(k):\n",
    "    indv = numpy.random.randint(0,len(array_pop))\n",
    "    if(best==[] or (fitnessf(indv,array_pop) > fitnessf(best,array_pop))):\n",
    "      best = indv\n",
    "  \n",
    "  return array_pop[best]"
   ]
  },
  {
   "cell_type": "markdown",
   "metadata": {
    "id": "dxcPupFSYDrV"
   },
   "source": [
    "Crossover double point"
   ]
  },
  {
   "cell_type": "code",
   "execution_count": 197,
   "metadata": {
    "id": "oqc3W45tYDW6"
   },
   "outputs": [],
   "source": [
    "def crossDP(parent1,parent2):\n",
    "\n",
    "  p1_start=numpy.random.randint(2,4)\n",
    "  p1_end=p1_start+2\n",
    "\n",
    "  temp1=[]\n",
    "  temp2=[]\n",
    "  for i in range(len(parent1)):\n",
    "    temp1.append(parent1[i])\n",
    "\n",
    "  for i in range(len(parent2)):\n",
    "    temp2.append(parent2[i])\n",
    "\n",
    "  offspring1=[]\n",
    "  offspring2=[]\n",
    "\n",
    "  offspring1 = temp1[:p1_start] + temp2[p1_start:p1_end] + temp1[p1_end:]\n",
    "  offspring2 = temp2[:p1_start] + temp1[p1_start:p1_end] + temp2[p1_end:]\n",
    "\n",
    "  offspring=[]\n",
    "  offspring.append(offspring1)\n",
    "  offspring.append(offspring2)\n",
    "\n",
    "  #print(offspring)\n",
    "\n",
    "  return offspring\n",
    "    \n"
   ]
  },
  {
   "cell_type": "markdown",
   "metadata": {
    "id": "LuekE3XM3FbV"
   },
   "source": [
    "Mutasi&survivor"
   ]
  },
  {
   "cell_type": "code",
   "execution_count": 203,
   "metadata": {
    "id": "BH2zh4-hwCee"
   },
   "outputs": [],
   "source": [
    "def mutasi(mutasi):\n",
    "\n",
    "    i_array = numpy.random.randint(0,1)\n",
    "    i_sp = numpy.random.randint(0,5) #index start point\n",
    "    i_ep = i_sp+1 #index end point\n",
    "\n",
    "    nilai_mutasi = numpy.random.rand(0,1)\n",
    "    temp=mutasi[i_array]\n",
    "    mutasi[i_array]=temp[:i_sp]+[nilai_mutasi]+temp[i_ep:]\n",
    "\n",
    "    for i in range(len(mutasi)):\n",
    "      survivor = max(fitnessf(i,mutasi))\n",
    "\n",
    "    return survivor"
   ]
  },
  {
   "cell_type": "markdown",
   "metadata": {
    "id": "hgfi2-mt3NOP"
   },
   "source": [
    "New Popultion"
   ]
  },
  {
   "cell_type": "code",
   "execution_count": 242,
   "metadata": {
    "id": "ZJHvsZr73Pqu"
   },
   "outputs": [],
   "source": [
    "def newPop(array_pop,survivor):\n",
    "\n",
    "  min_fitness=[]\n",
    "  for i in range(len(array_pop)):\n",
    "    if(min_fitness==[] or (fitnessf(i,array_pop) < fitnessf(min_fitness,array_pop))):\n",
    "      min_fitness = i\n",
    "\n",
    "  if survivor!=[]:\n",
    "    array_pop[min_fitness]=survivor\n",
    "  else:\n",
    "    del array_pop[min_fitness]\n",
    "\n",
    "  return array_pop"
   ]
  },
  {
   "cell_type": "code",
   "execution_count": null,
   "metadata": {
    "colab": {
     "base_uri": "https://localhost:8080/",
     "height": 1000
    },
    "id": "6YXQTwjyNNB7",
    "outputId": "f7c1aae3-88ae-4112-ffdd-e745683c6888"
   },
   "outputs": [
    {
     "name": "stdout",
     "output_type": "stream",
     "text": [
      "Individu dalam populasi:  [array([0.34171775, 0.14951641, 0.7067502 , 0.46090402, 0.74500102,\n",
      "       0.80997862]), array([0.46010052, 0.40282881, 0.24730078, 0.79927954, 0.31860823,\n",
      "       0.31777113]), array([0.28240241, 0.67263295, 0.2815701 , 0.30312875, 0.82460596,\n",
      "       0.78863643]), array([0.839117  , 0.87595524, 0.85043855, 0.10470304, 0.3507867 ,\n",
      "       0.053418  ]), array([0.70076334, 0.37037682, 0.2064344 , 0.75436522, 0.81331317,\n",
      "       0.30447268]), array([0.88259431, 0.18148949, 0.08875019, 0.83412254, 0.496081  ,\n",
      "       0.31726855]), array([0.34653394, 0.78240508, 0.2391695 , 0.79016093, 0.75197203,\n",
      "       0.21637684]), array([0.06256742, 0.25100023, 0.61702337, 0.84139517, 0.02278135,\n",
      "       0.15506238]), array([0.11383124, 0.67219979, 0.85549705, 0.43671945, 0.45078471,\n",
      "       0.69233131])]\n",
      "fitness:  -0.7798502522337944\n",
      "x1 =  3.924584224595037\n",
      "x2 =  2.1596709260811875\n",
      "Individu dalam populasi:  [array([0.46010052, 0.40282881, 0.24730078, 0.79927954, 0.31860823,\n",
      "       0.31777113]), array([0.28240241, 0.67263295, 0.2815701 , 0.30312875, 0.82460596,\n",
      "       0.78863643]), array([0.839117  , 0.87595524, 0.85043855, 0.10470304, 0.3507867 ,\n",
      "       0.053418  ]), array([0.70076334, 0.37037682, 0.2064344 , 0.75436522, 0.81331317,\n",
      "       0.30447268]), array([0.88259431, 0.18148949, 0.08875019, 0.83412254, 0.496081  ,\n",
      "       0.31726855]), array([0.34653394, 0.78240508, 0.2391695 , 0.79016093, 0.75197203,\n",
      "       0.21637684]), array([0.06256742, 0.25100023, 0.61702337, 0.84139517, 0.02278135,\n",
      "       0.15506238]), array([0.11383124, 0.67219979, 0.85549705, 0.43671945, 0.45078471,\n",
      "       0.69233131])]\n",
      "fitness:  -0.7798502522337944\n",
      "x1 =  3.924584224595037\n",
      "x2 =  2.1596709260811875\n",
      "Individu dalam populasi:  [array([0.46010052, 0.40282881, 0.24730078, 0.79927954, 0.31860823,\n",
      "       0.31777113]), array([0.839117  , 0.87595524, 0.85043855, 0.10470304, 0.3507867 ,\n",
      "       0.053418  ]), array([0.70076334, 0.37037682, 0.2064344 , 0.75436522, 0.81331317,\n",
      "       0.30447268]), array([0.88259431, 0.18148949, 0.08875019, 0.83412254, 0.496081  ,\n",
      "       0.31726855]), array([0.34653394, 0.78240508, 0.2391695 , 0.79016093, 0.75197203,\n",
      "       0.21637684]), array([0.06256742, 0.25100023, 0.61702337, 0.84139517, 0.02278135,\n",
      "       0.15506238]), array([0.11383124, 0.67219979, 0.85549705, 0.43671945, 0.45078471,\n",
      "       0.69233131])]\n",
      "fitness:  -0.7798502522337944\n",
      "x1 =  3.924584224595037\n",
      "x2 =  2.1596709260811875\n",
      "Individu dalam populasi:  [array([0.46010052, 0.40282881, 0.24730078, 0.79927954, 0.31860823,\n",
      "       0.31777113]), array([0.839117  , 0.87595524, 0.85043855, 0.10470304, 0.3507867 ,\n",
      "       0.053418  ]), array([0.88259431, 0.18148949, 0.08875019, 0.83412254, 0.496081  ,\n",
      "       0.31726855]), array([0.34653394, 0.78240508, 0.2391695 , 0.79016093, 0.75197203,\n",
      "       0.21637684]), array([0.06256742, 0.25100023, 0.61702337, 0.84139517, 0.02278135,\n",
      "       0.15506238]), array([0.11383124, 0.67219979, 0.85549705, 0.43671945, 0.45078471,\n",
      "       0.69233131])]\n",
      "fitness:  -0.7798502522337944\n",
      "x1 =  3.924584224595037\n",
      "x2 =  2.1596709260811875\n",
      "Individu dalam populasi:  [array([0.46010052, 0.40282881, 0.24730078, 0.79927954, 0.31860823,\n",
      "       0.31777113]), array([0.839117  , 0.87595524, 0.85043855, 0.10470304, 0.3507867 ,\n",
      "       0.053418  ]), array([0.34653394, 0.78240508, 0.2391695 , 0.79016093, 0.75197203,\n",
      "       0.21637684]), array([0.06256742, 0.25100023, 0.61702337, 0.84139517, 0.02278135,\n",
      "       0.15506238]), array([0.11383124, 0.67219979, 0.85549705, 0.43671945, 0.45078471,\n",
      "       0.69233131])]\n",
      "fitness:  -0.7798502522337944\n",
      "x1 =  3.924584224595037\n",
      "x2 =  2.1596709260811875\n",
      "Individu dalam populasi:  [array([0.46010052, 0.40282881, 0.24730078, 0.79927954, 0.31860823,\n",
      "       0.31777113]), array([0.839117  , 0.87595524, 0.85043855, 0.10470304, 0.3507867 ,\n",
      "       0.053418  ]), array([0.06256742, 0.25100023, 0.61702337, 0.84139517, 0.02278135,\n",
      "       0.15506238]), array([0.11383124, 0.67219979, 0.85549705, 0.43671945, 0.45078471,\n",
      "       0.69233131])]\n",
      "fitness:  -0.7798502522337944\n",
      "x1 =  3.924584224595037\n",
      "x2 =  2.1596709260811875\n",
      "Individu dalam populasi:  [array([0.46010052, 0.40282881, 0.24730078, 0.79927954, 0.31860823,\n",
      "       0.31777113]), array([0.839117  , 0.87595524, 0.85043855, 0.10470304, 0.3507867 ,\n",
      "       0.053418  ]), array([0.11383124, 0.67219979, 0.85549705, 0.43671945, 0.45078471,\n",
      "       0.69233131])]\n",
      "fitness:  -0.7798502522337944\n",
      "x1 =  3.924584224595037\n",
      "x2 =  2.1596709260811875\n",
      "Individu dalam populasi:  [array([0.839117  , 0.87595524, 0.85043855, 0.10470304, 0.3507867 ,\n",
      "       0.053418  ]), array([0.11383124, 0.67219979, 0.85549705, 0.43671945, 0.45078471,\n",
      "       0.69233131])]\n",
      "fitness:  -0.7798502522337944\n",
      "x1 =  3.924584224595037\n",
      "x2 =  2.1596709260811875\n"
     ]
    }
   ],
   "source": [
    "\n",
    "#pop = int(input(\"jumlah populsi:\"))\n",
    "#gen_t = int(input(\"total gen: \"))\n",
    "#generasi_t = int(input(\"total generasi: \"))\n",
    "#prob_cross = input(\"probabilitas corssover: \")\n",
    "#prob_mutasi = input(\"probabilitas mutasi: \")\n",
    "\n",
    "pop=10\n",
    "gen_t=6\n",
    "generasi_t = 100\n",
    "prob_cross = 0.5\n",
    "prob_mutation = 0.01\n",
    "array_pop=[]\n",
    "\n",
    "array_pop=populationdef(array_pop,pop,gen_t)\n",
    "#print(array_pop)\n",
    "\n",
    "parent=tournamentS(array_pop,20) \n",
    "\n",
    "for x in range(generasi_t):\n",
    "  while True:\n",
    "    parent2=tournamentS(array_pop,20)\n",
    "    if sum(parent) != sum(parent2):\n",
    "      break\n",
    "\n",
    "  survivor=[]\n",
    "\n",
    "  if (numpy.random.rand() < prob_cross):\n",
    "\n",
    "    offspring = []\n",
    "    offspring = crossDP(parent,parent2)\n",
    "    #print(offspring)\n",
    "    if (numpy.random.rand() < prob_mutation):\n",
    "      survivor = mutasi(offspring)\n",
    "      #print(survivor)\n",
    "     \n",
    "  newPop(array_pop,survivor)\n",
    "\n",
    "  print(\"Individu dalam populasi: \",array_pop)\n",
    "\n",
    "  for i in range(len(array_pop)):\n",
    "    best=[]\n",
    "\n",
    "    if(best==[] or (fitnessf(i,array_pop) > fitnessf(best,array_pop))):\n",
    "        best = i\n",
    "\n",
    "  print(\"fitness: \", fitnessf(best,array_pop))\n",
    "  x = decodecromsom(best,array_pop)\n",
    "  print(\"x1 = \",x[0])\n",
    "  print(\"x2 = \",x[1])\n",
    "\n",
    "\n",
    "\n"
   ]
  },
  {
   "cell_type": "code",
   "execution_count": 239,
   "metadata": {
    "colab": {
     "base_uri": "https://localhost:8080/",
     "height": 67
    },
    "id": "7thvXxCtjGo_",
    "outputId": "4efcb6a6-f6b8-4293-e862-7ce3a5eaec26"
   },
   "outputs": [
    {
     "name": "stdout",
     "output_type": "stream",
     "text": [
      "[9, 3, 2, 1, 55, 12]\n",
      "[9, 3, 32, 3, 2, 1, 55, 12]\n",
      "[1.11900048 0.51679394]\n"
     ]
    }
   ],
   "source": [
    "nparray=[9,3,2,1,55,12]\n",
    "print(nparray)\n",
    "selip=[32]\n",
    "na = nparray[:2]+[32]+nparray[1:]\n",
    "print(na)\n",
    "na = parent[:2]+parent2[2:4]+parent[4:]\n",
    "print(na)\n",
    "#rand=numpy.random.rand()\n",
    "#print(rand)"
   ]
  }
 ],
 "metadata": {
  "colab": {
   "collapsed_sections": [],
   "name": "GA1AI.ipynb",
   "provenance": []
  },
  "kernelspec": {
   "display_name": "Python 3 (ipykernel)",
   "language": "python",
   "name": "python3"
  },
  "language_info": {
   "codemirror_mode": {
    "name": "ipython",
    "version": 3
   },
   "file_extension": ".py",
   "mimetype": "text/x-python",
   "name": "python",
   "nbconvert_exporter": "python",
   "pygments_lexer": "ipython3",
   "version": "3.9.6"
  }
 },
 "nbformat": 4,
 "nbformat_minor": 1
}
